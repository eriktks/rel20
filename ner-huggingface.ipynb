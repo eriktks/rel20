{
 "cells": [
  {
   "cell_type": "markdown",
   "metadata": {},
   "source": [
    "# NER with Bert from HuggingFace\n",
    "\n",
    "Source: https://huggingface.co/dslim/bert-base-NER for alterbnative models see https://huggingface.co/models?other=bert&sort=downloads&search=ner"
   ]
  },
  {
   "cell_type": "code",
   "execution_count": 1,
   "metadata": {},
   "outputs": [
    {
     "name": "stderr",
     "output_type": "stream",
     "text": [
      "2022-05-31 17:58:53.246583: W tensorflow/stream_executor/platform/default/dso_loader.cc:64] Could not load dynamic library 'libcudart.so.11.0'; dlerror: libcudart.so.11.0: cannot open shared object file: No such file or directory\n",
      "2022-05-31 17:58:53.246604: I tensorflow/stream_executor/cuda/cudart_stub.cc:29] Ignore above cudart dlerror if you do not have a GPU set up on your machine.\n"
     ]
    }
   ],
   "source": [
    "from transformers import AutoTokenizer, AutoModelForTokenClassification\n",
    "from transformers import pipeline"
   ]
  },
  {
   "cell_type": "code",
   "execution_count": 2,
   "metadata": {},
   "outputs": [],
   "source": [
    "tokenizer = AutoTokenizer.from_pretrained(\"dslim/bert-base-NER\")\n",
    "model = AutoModelForTokenClassification.from_pretrained(\"dslim/bert-base-NER\")"
   ]
  },
  {
   "cell_type": "code",
   "execution_count": 5,
   "metadata": {},
   "outputs": [],
   "source": [
    "nlp = pipeline(\"ner\", model=model, tokenizer=tokenizer)\n",
    "example = \"\"\"My name is Wolfgang, I live in Berlin where\n",
    "             I work for Siemens. I think that this city is \n",
    "             best place to be in, at the moment at least,\n",
    "             certainly after experiencing Amsterdam, \n",
    "             Barcelona, Copenhagen, Dubrovnik, yeah!\"\"\""
   ]
  },
  {
   "cell_type": "code",
   "execution_count": 6,
   "metadata": {},
   "outputs": [
    {
     "name": "stdout",
     "output_type": "stream",
     "text": [
      "[{'word': 'Wolfgang', 'score': 0.9989216327667236, 'entity': 'B-PER', 'index': 4, 'start': 11, 'end': 19}, {'word': 'Berlin', 'score': 0.9997388124465942, 'entity': 'B-LOC', 'index': 9, 'start': 31, 'end': 37}, {'word': 'Siemens', 'score': 0.9976899027824402, 'entity': 'B-ORG', 'index': 14, 'start': 68, 'end': 75}, {'word': 'Amsterdam', 'score': 0.9994820952415466, 'entity': 'B-LOC', 'index': 37, 'start': 204, 'end': 213}, {'word': 'Barcelona', 'score': 0.9987280964851379, 'entity': 'B-LOC', 'index': 39, 'start': 229, 'end': 238}, {'word': 'Copenhagen', 'score': 0.9992740750312805, 'entity': 'B-LOC', 'index': 41, 'start': 240, 'end': 250}, {'word': 'Dub', 'score': 0.9992077946662903, 'entity': 'B-LOC', 'index': 43, 'start': 252, 'end': 255}, {'word': '##rov', 'score': 0.9974023103713989, 'entity': 'I-LOC', 'index': 44, 'start': 255, 'end': 258}, {'word': '##nik', 'score': 0.9861747622489929, 'entity': 'I-LOC', 'index': 45, 'start': 258, 'end': 261}]\n"
     ]
    }
   ],
   "source": [
    "ner_results = nlp(example)\n",
    "print(ner_results)"
   ]
  },
  {
   "cell_type": "markdown",
   "metadata": {},
   "source": [
    "## NER with Flair\n",
    "\n",
    "Source: https://github.com/flairNLP/flair/"
   ]
  },
  {
   "cell_type": "code",
   "execution_count": 7,
   "metadata": {},
   "outputs": [],
   "source": [
    "from flair.data import Sentence\n",
    "from flair.models import SequenceTagger"
   ]
  },
  {
   "cell_type": "code",
   "execution_count": 8,
   "metadata": {},
   "outputs": [],
   "source": [
    "sentence = Sentence(example)"
   ]
  },
  {
   "cell_type": "code",
   "execution_count": 9,
   "metadata": {},
   "outputs": [
    {
     "name": "stdout",
     "output_type": "stream",
     "text": [
      "2022-05-31 18:02:55,068 --------------------------------------------------------------------------------\n",
      "2022-05-31 18:02:55,075 The model key 'ner' now maps to 'https://huggingface.co/flair/ner-english' on the HuggingFace ModelHub\n",
      "2022-05-31 18:02:55,079  - The most current version of the model is automatically downloaded from there.\n",
      "2022-05-31 18:02:55,086  - (you can alternatively manually download the original model at https://nlp.informatik.hu-berlin.de/resources/models/ner/en-ner-conll03-v0.4.pt)\n",
      "2022-05-31 18:02:55,092 --------------------------------------------------------------------------------\n",
      "2022-05-31 18:02:55,852 loading file /home/erikt/.flair/models/ner-english/4f4cdab26f24cb98b732b389e6cebc646c36f54cfd6e0b7d3b90b25656e4262f.8baa8ae8795f4df80b28e7f7b61d788ecbb057d1dc85aacb316f1bd02837a4a4\n"
     ]
    }
   ],
   "source": [
    "tagger = SequenceTagger.load('ner')"
   ]
  },
  {
   "cell_type": "code",
   "execution_count": 10,
   "metadata": {},
   "outputs": [
    {
     "name": "stdout",
     "output_type": "stream",
     "text": [
      "Sentence: \"My name is Wolfgang , I live in Berlin where I work for Siemens . I think that this city is best place to be in , at the moment at least , certainly after experiencing Amsterdam , Barcelona , Copenhagen , Dubrovnik , yeah !\"   [− Tokens: 46  − Token-Labels: \"My name is Wolfgang <S-PER> , I live in Berlin <S-LOC> where I work for Siemens <S-ORG> . I think that this city is best place to be in , at the moment at least , certainly after experiencing Amsterdam <S-LOC> , Barcelona <S-LOC> , Copenhagen <S-LOC> , Dubrovnik <S-LOC> , yeah !\"]\n"
     ]
    }
   ],
   "source": [
    "tagger.predict(sentence)\n",
    "print(sentence)"
   ]
  },
  {
   "cell_type": "code",
   "execution_count": 11,
   "metadata": {},
   "outputs": [
    {
     "name": "stdout",
     "output_type": "stream",
     "text": [
      "<class 'flair.data.Span'>\n",
      "Token: 4 Wolfgang\n",
      "<class 'flair.data.Span'>\n",
      "Token: 9 Berlin\n",
      "<class 'flair.data.Span'>\n",
      "Token: 14 Siemens\n",
      "<class 'flair.data.Span'>\n",
      "Token: 37 Amsterdam\n",
      "<class 'flair.data.Span'>\n",
      "Token: 39 Barcelona\n",
      "<class 'flair.data.Span'>\n",
      "Token: 41 Copenhagen\n",
      "<class 'flair.data.Span'>\n",
      "Token: 43 Dubrovnik\n"
     ]
    }
   ],
   "source": [
    "for entity in sentence.get_spans():\n",
    "    print(type(entity))\n",
    "    for x in entity:\n",
    "        print(x)"
   ]
  },
  {
   "cell_type": "code",
   "execution_count": 12,
   "metadata": {},
   "outputs": [
    {
     "data": {
      "text/plain": [
       "Token: 1 My"
      ]
     },
     "execution_count": 12,
     "metadata": {},
     "output_type": "execute_result"
    }
   ],
   "source": [
    "sentence[0].set_label(\"ner\", \"A\")"
   ]
  },
  {
   "cell_type": "code",
   "execution_count": 13,
   "metadata": {},
   "outputs": [
    {
     "data": {
      "text/plain": [
       "[O (1.0)]"
      ]
     },
     "execution_count": 13,
     "metadata": {},
     "output_type": "execute_result"
    }
   ],
   "source": [
    "sentence[1].get_labels(\"ner\")"
   ]
  },
  {
   "cell_type": "markdown",
   "metadata": {},
   "source": [
    "## Flair wrapper"
   ]
  },
  {
   "cell_type": "code",
   "execution_count": 14,
   "metadata": {},
   "outputs": [],
   "source": [
    "from REL.entity_disambiguation import EntityDisambiguation\n",
    "from flair import cache_root\n",
    "from flair.models import SequenceTagger\n",
    "from flair.data import Sentence\n",
    "import argparse\n",
    "from http.server import HTTPServer\n",
    "from REL.server import make_handler\n",
    "\n",
    "\n",
    "from REL.utils import fetch_model\n",
    "\n",
    "\n",
    "def load_flair_ner(path_or_url):\n",
    "    try:\n",
    "        return SequenceTagger.load(path_or_url)\n",
    "    except Exception:\n",
    "        pass\n",
    "    return SequenceTagger.load(fetch_model(path_or_url, cache_root))"
   ]
  },
  {
   "cell_type": "code",
   "execution_count": 15,
   "metadata": {},
   "outputs": [],
   "source": [
    "NER_MODEL = \"ner-fast\""
   ]
  },
  {
   "cell_type": "code",
   "execution_count": 16,
   "metadata": {},
   "outputs": [
    {
     "name": "stdout",
     "output_type": "stream",
     "text": [
      "2022-05-31 18:05:18,948 --------------------------------------------------------------------------------\n",
      "2022-05-31 18:05:18,954 The model key 'ner-fast' now maps to 'https://huggingface.co/flair/ner-english-fast' on the HuggingFace ModelHub\n",
      "2022-05-31 18:05:18,961  - The most current version of the model is automatically downloaded from there.\n",
      "2022-05-31 18:05:18,968  - (you can alternatively manually download the original model at https://nlp.informatik.hu-berlin.de/resources/models/ner-fast/en-ner-fast-conll03-v0.4.pt)\n",
      "2022-05-31 18:05:18,971 --------------------------------------------------------------------------------\n",
      "2022-05-31 18:05:19,610 loading file /home/erikt/.flair/models/ner-english-fast/4c58e7191ff952c030b82db25b3694b58800b0e722ff15427f527e1631ed6142.e13c7c4664ffe2bbfa8f1f5375bd0dced866b8c1dd7ff89a6d705518abf0a611\n"
     ]
    }
   ],
   "source": [
    "ner_model = load_flair_ner(NER_MODEL)"
   ]
  },
  {
   "cell_type": "code",
   "execution_count": 17,
   "metadata": {},
   "outputs": [
    {
     "data": {
      "text/plain": [
       "Sentence: \"John went to Microsoft in Seattle\"   [− Tokens: 6  − Token-Labels: \"John <S-PER> went to Microsoft <S-ORG> in Seattle <S-LOC>\"]"
      ]
     },
     "execution_count": 17,
     "metadata": {},
     "output_type": "execute_result"
    }
   ],
   "source": [
    "tokenized_sentence = Sentence(\"John went to Microsoft in Seattle\")\n",
    "ner_model.predict(tokenized_sentence)\n",
    "tokenized_sentence"
   ]
  },
  {
   "cell_type": "markdown",
   "metadata": {},
   "source": [
    "## BERT wrapper\n",
    "\n",
    "(to do)"
   ]
  },
  {
   "cell_type": "code",
   "execution_count": null,
   "metadata": {},
   "outputs": [],
   "source": []
  }
 ],
 "metadata": {
  "kernelspec": {
   "display_name": "python37",
   "language": "python",
   "name": "python37"
  },
  "language_info": {
   "codemirror_mode": {
    "name": "ipython",
    "version": 3
   },
   "file_extension": ".py",
   "mimetype": "text/x-python",
   "name": "python",
   "nbconvert_exporter": "python",
   "pygments_lexer": "ipython3",
   "version": "3.7.3"
  }
 },
 "nbformat": 4,
 "nbformat_minor": 4
}
