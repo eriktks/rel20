{
 "cells": [
  {
   "cell_type": "markdown",
   "metadata": {},
   "source": [
    "# NER with Bert from HuggingFace\n",
    "\n",
    "Source: https://huggingface.co/dslim/bert-base-NER for alterbnative models see https://huggingface.co/models?other=bert&sort=downloads&search=ner"
   ]
  },
  {
   "cell_type": "code",
   "execution_count": 1,
   "metadata": {},
   "outputs": [
    {
     "name": "stderr",
     "output_type": "stream",
     "text": [
      "2022-05-16 12:17:09.291535: W tensorflow/stream_executor/platform/default/dso_loader.cc:64] Could not load dynamic library 'libcudart.so.11.0'; dlerror: libcudart.so.11.0: cannot open shared object file: No such file or directory\n",
      "2022-05-16 12:17:09.291602: I tensorflow/stream_executor/cuda/cudart_stub.cc:29] Ignore above cudart dlerror if you do not have a GPU set up on your machine.\n"
     ]
    }
   ],
   "source": [
    "from transformers import AutoTokenizer, AutoModelForTokenClassification\n",
    "from transformers import pipeline"
   ]
  },
  {
   "cell_type": "code",
   "execution_count": 2,
   "metadata": {},
   "outputs": [],
   "source": [
    "tokenizer = AutoTokenizer.from_pretrained(\"dslim/bert-base-NER\")\n",
    "model = AutoModelForTokenClassification.from_pretrained(\"dslim/bert-base-NER\")"
   ]
  },
  {
   "cell_type": "code",
   "execution_count": 9,
   "metadata": {},
   "outputs": [],
   "source": [
    "nlp = pipeline(\"ner\", model=model, tokenizer=tokenizer)\n",
    "example = \"\"\"me is Wolfgang, I live in Berlin \\\n",
    "             and I think that Berlin is best place to be in, \n",
    "             at the moment at least, even for the moment,\n",
    "             certainly after experiencing Amsterdam, Barcelona, Copenhagen, Dubrovnik\n",
    "             yeah!\"\"\""
   ]
  },
  {
   "cell_type": "code",
   "execution_count": 6,
   "metadata": {},
   "outputs": [
    {
     "name": "stdout",
     "output_type": "stream",
     "text": [
      "[{'word': 'Wolfgang', 'score': 0.9988356828689575, 'entity': 'B-PER', 'index': 4, 'start': 11, 'end': 19}, {'word': 'Berlin', 'score': 0.9997405409812927, 'entity': 'B-LOC', 'index': 9, 'start': 31, 'end': 37}, {'word': 'Berlin', 'score': 0.9997540712356567, 'entity': 'B-LOC', 'index': 14, 'start': 55, 'end': 61}]\n"
     ]
    }
   ],
   "source": [
    "ner_results = nlp(example)\n",
    "print(ner_results)"
   ]
  },
  {
   "cell_type": "markdown",
   "metadata": {},
   "source": [
    "## NER with Flair\n",
    "\n",
    "Source: https://github.com/flairNLP/flair/"
   ]
  },
  {
   "cell_type": "code",
   "execution_count": 10,
   "metadata": {},
   "outputs": [],
   "source": [
    "from flair.data import Sentence\n",
    "from flair.models import SequenceTagger"
   ]
  },
  {
   "cell_type": "code",
   "execution_count": 11,
   "metadata": {},
   "outputs": [],
   "source": [
    "sentence = Sentence(example)"
   ]
  },
  {
   "cell_type": "code",
   "execution_count": 12,
   "metadata": {},
   "outputs": [
    {
     "name": "stdout",
     "output_type": "stream",
     "text": [
      "2022-05-16 13:31:46,047 --------------------------------------------------------------------------------\n",
      "2022-05-16 13:31:46,049 The model key 'ner' now maps to 'https://huggingface.co/flair/ner-english' on the HuggingFace ModelHub\n",
      "2022-05-16 13:31:46,050  - The most current version of the model is automatically downloaded from there.\n",
      "2022-05-16 13:31:46,051  - (you can alternatively manually download the original model at https://nlp.informatik.hu-berlin.de/resources/models/ner/en-ner-conll03-v0.4.pt)\n",
      "2022-05-16 13:31:46,052 --------------------------------------------------------------------------------\n",
      "2022-05-16 13:31:46,636 loading file /home/erikt/.flair/models/ner-english/4f4cdab26f24cb98b732b389e6cebc646c36f54cfd6e0b7d3b90b25656e4262f.8baa8ae8795f4df80b28e7f7b61d788ecbb057d1dc85aacb316f1bd02837a4a4\n"
     ]
    }
   ],
   "source": [
    "tagger = SequenceTagger.load('ner')"
   ]
  },
  {
   "cell_type": "code",
   "execution_count": 13,
   "metadata": {},
   "outputs": [
    {
     "name": "stdout",
     "output_type": "stream",
     "text": [
      "Sentence: \"me is Wolfgang , I live in Berlin and I think that Berlin is best place to be in , at the moment at least , even for the moment , rea !\"   [− Tokens: 33  − Token-Labels: \"me is Wolfgang <S-PER> , I live in Berlin <S-LOC> and I think that Berlin <S-LOC> is best place to be in , at the moment at least , even for the moment , rea !\"]\n"
     ]
    }
   ],
   "source": [
    "tagger.predict(sentence)\n",
    "print(sentence)"
   ]
  },
  {
   "cell_type": "code",
   "execution_count": 14,
   "metadata": {},
   "outputs": [
    {
     "name": "stdout",
     "output_type": "stream",
     "text": [
      "<class 'flair.data.Span'>\n",
      "Token: 4 Wolfgang\n",
      "<class 'flair.data.Span'>\n",
      "Token: 9 Berlin\n"
     ]
    }
   ],
   "source": [
    "for entity in sentence.get_spans():\n",
    "    print(type(entity))\n",
    "    for x in entity:\n",
    "        print(x)"
   ]
  },
  {
   "cell_type": "code",
   "execution_count": 17,
   "metadata": {},
   "outputs": [
    {
     "data": {
      "text/plain": [
       "Token: 1 My"
      ]
     },
     "execution_count": 17,
     "metadata": {},
     "output_type": "execute_result"
    }
   ],
   "source": [
    "sentence[0].set_label(\"ner\", \"A\")"
   ]
  },
  {
   "cell_type": "code",
   "execution_count": 25,
   "metadata": {},
   "outputs": [
    {
     "data": {
      "text/plain": [
       "[O (1.0)]"
      ]
     },
     "execution_count": 25,
     "metadata": {},
     "output_type": "execute_result"
    }
   ],
   "source": [
    "sentence[1].get_labels(\"ner\")"
   ]
  },
  {
   "cell_type": "markdown",
   "metadata": {},
   "source": [
    "## Flair wrapper"
   ]
  },
  {
   "cell_type": "code",
   "execution_count": 80,
   "metadata": {},
   "outputs": [],
   "source": [
    "from REL.entity_disambiguation import EntityDisambiguation\n",
    "from flair import cache_root\n",
    "from flair.models import SequenceTagger\n",
    "from flair.data import Sentence\n",
    "import argparse\n",
    "from http.server import HTTPServer\n",
    "from REL.server import make_handler\n",
    "\n",
    "\n",
    "from REL.utils import fetch_model\n",
    "\n",
    "\n",
    "def load_flair_ner(path_or_url):\n",
    "    try:\n",
    "        return SequenceTagger.load(path_or_url)\n",
    "    except Exception:\n",
    "        pass\n",
    "    return SequenceTagger.load(fetch_model(path_or_url, cache_root))"
   ]
  },
  {
   "cell_type": "code",
   "execution_count": 85,
   "metadata": {},
   "outputs": [],
   "source": [
    "NER_MODEL = \"ner-fast\""
   ]
  },
  {
   "cell_type": "code",
   "execution_count": 86,
   "metadata": {},
   "outputs": [
    {
     "name": "stdout",
     "output_type": "stream",
     "text": [
      "2022-05-16 17:52:36,867 --------------------------------------------------------------------------------\n",
      "2022-05-16 17:52:36,870 The model key 'ner-fast' now maps to 'https://huggingface.co/flair/ner-english-fast' on the HuggingFace ModelHub\n",
      "2022-05-16 17:52:36,881  - The most current version of the model is automatically downloaded from there.\n",
      "2022-05-16 17:52:36,886  - (you can alternatively manually download the original model at https://nlp.informatik.hu-berlin.de/resources/models/ner-fast/en-ner-fast-conll03-v0.4.pt)\n",
      "2022-05-16 17:52:36,889 --------------------------------------------------------------------------------\n",
      "2022-05-16 17:52:37,593 loading file /home/erikt/.flair/models/ner-english-fast/4c58e7191ff952c030b82db25b3694b58800b0e722ff15427f527e1631ed6142.e13c7c4664ffe2bbfa8f1f5375bd0dced866b8c1dd7ff89a6d705518abf0a611\n"
     ]
    }
   ],
   "source": [
    "ner_model = load_flair_ner(NER_MODEL)"
   ]
  },
  {
   "cell_type": "code",
   "execution_count": 87,
   "metadata": {},
   "outputs": [
    {
     "data": {
      "text/plain": [
       "Sentence: \"John went to Microsoft in Seattle\"   [− Tokens: 6  − Token-Labels: \"John <S-PER> went to Microsoft <S-ORG> in Seattle <S-LOC>\"]"
      ]
     },
     "execution_count": 87,
     "metadata": {},
     "output_type": "execute_result"
    }
   ],
   "source": [
    "tokenized_sentence = Sentence(\"John went to Microsoft in Seattle\")\n",
    "ner_model.predict(tokenized_sentence)\n",
    "tokenized_sentence"
   ]
  },
  {
   "cell_type": "code",
   "execution_count": null,
   "metadata": {},
   "outputs": [],
   "source": []
  }
 ],
 "metadata": {
  "kernelspec": {
   "display_name": "python37",
   "language": "python",
   "name": "python37"
  },
  "language_info": {
   "codemirror_mode": {
    "name": "ipython",
    "version": 3
   },
   "file_extension": ".py",
   "mimetype": "text/x-python",
   "name": "python",
   "nbconvert_exporter": "python",
   "pygments_lexer": "ipython3",
   "version": "3.7.3"
  }
 },
 "nbformat": 4,
 "nbformat_minor": 4
}
