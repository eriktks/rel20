{
 "cells": [
  {
   "cell_type": "markdown",
   "metadata": {},
   "source": [
    "# API test\n",
    "\n",
    "See: https://github.com/informagi/REL/\n",
    "\n",
    "It is possible to use the Radboud API at https://rel.cs.ru.nl/api. Alternatively you can run your own api with:\n",
    "\n",
    "```\n",
    "docker run \\\n",
    "    -p 5555:5555 \\\n",
    "    -v $PWD/data/:/workspace/data \\\n",
    "    --rm -it informagi/rel \\\n",
    "    python -m REL.server --bind 0.0.0.0 --port 5555 /workspace/data wiki_2019\n",
    "```\n",
    "\n",
    "Note that you need to run this instruction from the REL directory. The system will look for the 2019 Wikipedia, stored in REL/data/wiki_2019\n",
    "\n",
    "(instruction taken from Github page mentioned above)"
   ]
  },
  {
   "cell_type": "code",
   "execution_count": 1,
   "metadata": {},
   "outputs": [],
   "source": [
    "import requests\n",
    "import time\n",
    "\n",
    "API_URL = \"https://rel.cs.ru.nl/api\"\n",
    "# API_URL = \"http://0.0.0.0:5555\"\n",
    "text_doc = \"If you're going to try, go all the way - Charles Bukowski\"\n",
    "text_doc = \"\"\"Vladimir Putin’s decision to order Russian nuclear forces to be put on high alert is a “bone-chilling development”, United Nations chief Antonio Guterres said.\n",
    "Speaking in New York, the UN secretary-general said the once “unthinkable” prospect of nuclear conflict was back within the realm of possibility.\n",
    "He added that the UN will allocate a further $40 million from its Central Emergency Response fund to ramp up humanitarian aid for Ukraine.\n",
    "The funds will help get critical supplies of food, water, medicines and other vital supplies into the country, as well as providing cash assistance to those in need, he said\n",
    "\"\"\""
   ]
  },
  {
   "cell_type": "code",
   "execution_count": 2,
   "metadata": {},
   "outputs": [
    {
     "name": "stdout",
     "output_type": "stream",
     "text": [
      "elapsed time: 6.2 seconds\n"
     ]
    }
   ],
   "source": [
    "# Example Entity Linking (EL)\n",
    "start_time = time.time()\n",
    "el_result = requests.post(API_URL, json={\n",
    "    \"text\": text_doc,\n",
    "    \"spans\": []\n",
    "}).json()\n",
    "print(f\"elapsed time: {round(time.time()-start_time, 1)} seconds\")"
   ]
  },
  {
   "cell_type": "code",
   "execution_count": 3,
   "metadata": {},
   "outputs": [
    {
     "data": {
      "text/plain": [
       "[['Vladimir Putin', 'Vladimir_Putin', 0.9243598334905461],\n",
       " ['Russian', 'Russia', 0.4643396647555494],\n",
       " ['United Nations', 'United_Nations', 0.962285854706128],\n",
       " ['Antonio Guterres', 'António_Guterres', 0.38727825954758405],\n",
       " ['New York', 'New_York_City', 0.5235067088881321],\n",
       " ['UN', 'United_Nations', 0.9128588007908953],\n",
       " ['UN', 'United_Nations', 0.9132827401506348],\n",
       " ['Ukraine', 'Ukraine', 0.5323545395081096]]"
      ]
     },
     "execution_count": 3,
     "metadata": {},
     "output_type": "execute_result"
    }
   ],
   "source": [
    "[ result[2:5] for result in el_result ]"
   ]
  },
  {
   "cell_type": "code",
   "execution_count": 4,
   "metadata": {},
   "outputs": [
    {
     "data": {
      "text/plain": [
       "'Central Emergency Response fund'"
      ]
     },
     "execution_count": 4,
     "metadata": {},
     "output_type": "execute_result"
    }
   ],
   "source": [
    "# missed entity\n",
    "\n",
    "text_doc[372:403]"
   ]
  },
  {
   "cell_type": "markdown",
   "metadata": {},
   "source": [
    "Note: the default text processing mode of the API is case-insensitive. Perhaps this entity could be picked up with case-sensitive processing. However, it seems to be impossible to change the default mode in the API (`REL/server.py` line 67: `text, spans = self.read_json(post_data)`: the only available fields in the json are `text` and `spans`)"
   ]
  },
  {
   "cell_type": "code",
   "execution_count": 5,
   "metadata": {},
   "outputs": [
    {
     "name": "stdout",
     "output_type": "stream",
     "text": [
      "elapsed time: 0.2 seconds\n"
     ]
    }
   ],
   "source": [
    "# Example Entity Detection (ED)\n",
    "start_time = time.time()\n",
    "ed_result = requests.post(API_URL, json={\n",
    "    \"text\": text_doc,\n",
    "    \"spans\": [(372, 403)]\n",
    "}).json()\n",
    "print(f\"elapsed time: {round(time.time()-start_time, 1)} seconds\")"
   ]
  },
  {
   "cell_type": "code",
   "execution_count": 6,
   "metadata": {},
   "outputs": [
    {
     "data": {
      "text/plain": [
       "[]"
      ]
     },
     "execution_count": 6,
     "metadata": {},
     "output_type": "execute_result"
    }
   ],
   "source": [
    "ed_result"
   ]
  },
  {
   "cell_type": "code",
   "execution_count": 7,
   "metadata": {},
   "outputs": [
    {
     "data": {
      "text/plain": [
       "'Central Emergency Response fund'"
      ]
     },
     "execution_count": 7,
     "metadata": {},
     "output_type": "execute_result"
    }
   ],
   "source": [
    "text_doc[372:403]"
   ]
  },
  {
   "cell_type": "markdown",
   "metadata": {},
   "source": [
    "## Efficiency tests with REL code\n",
    "\n",
    "The script `REL/scripts/efficiency_test.py` can be used for computing the run times (times in number of seconds). Instructions:\n",
    "\n",
    "1. go to the REL directory: `cd REL`\n",
    "2. activate the project's Python environment: `source ../venv3/bin/activate`\n",
    "3. optional: install the REL software: `pip install .`\n",
    "4. run the script: `python3 scripts/efficiency_test.py`\n",
    "\n",
    "Result:\n",
    "\n",
    "| NER  |Wiki |Model      |Time MD|Time ED|Precision MD|Recall MD|Precision ED|Recall ED|\n",
    "|:----:|:----:|:---------:|:-----:|:-----:|:----------:|:-------:|:----------:|:-------:|\n",
    "|Flair | 2014 |Without GPU|  47.0 |   7.7 |      88.2% |   73.5% |      70.6% |   66.2% | \n",
    "|Flair | 2019 |Without GPU|  50.0 |   6.1 |      88.7% |   74.3% |      66.3% |   65.7% |\n",
    "|Bert  | 2014 |Without GPU|  59.7 |   8.6 |      17.9% |   26.7% |      71.0% |   20.6% |\n",
    "|Bert  | 2019 |Without GPU|  57.0 |   8.4 |      17.9% |   26.7% |      66.3% |   19.5% |"
   ]
  },
  {
   "cell_type": "markdown",
   "metadata": {},
   "source": [
    "## Performance tests with Gerbil\n",
    "\n",
    "1. go to project directory `cd $HOME/software/gerbil`\n",
    "4. start Gerbil: `./start.sh`\n",
    "5. open Gerbil in browser http://0.0.0.0:1234/gerbil/config\n",
    "6. go to middleware directory: `cd $HOME/projects/rel20/REL/scipts/gerbil_middleware`\n",
    "7. start middleware: `mvn clean -Dmaven.tomcat.port=1235 tomcat:run`\n",
    "8. go to REL directory: `cd $HOME/projects/rel20/REL`\n",
    "9. start server: `python3 REL/server.py --ed-model ed-wiki-2019 data wiki_2019`\n",
    "\n",
    "Note that 4, 7 and 9 need to run simultaneously. Then this information needs to be entered in the Gerbil configuration form:\n",
    "\n",
    "| Field            | Value |\n",
    "| ---------------- | ----- |\n",
    "| url:             | http://0.0.0.0:1234/gerbil/config |\n",
    "| Experiment type  | A2KB|\n",
    "| Matching         | Ma - strong annotation match|\n",
    "| Annotator Name   | Test |\n",
    "| Annotator URI    | http://0.0.0.0:1235/gerbil-spotWrapNifWS4Test/myalgorithm |\n",
    "| Dataset          | AIDA CoNLL--Test B |\n",
    "\n",
    "\n",
    "Results:\n",
    "\n",
    "|  Exp | NER   | Wiki | Model       | server    | Time  | Macro F1 | Macro F1: ER | Macro F1: D2 |\n",
    "| ---- | ----- | ---- | ----------- | --------- | ----  | -------- | ------------ | ------------ |\n",
    "| 19.3 | Flair | 2014 | Without GPU | server.py | 0.525 | 0        | 0            | 0            |\n",
    "| 19.4 | Flair | 2019 | Without GPU | server.py | 0.512 | 0        | 0            | 0            |\n",
    "| 19.2 | Bert  | 2014 | Without GPU | server.py | 0.510 | 0        | 0            | 0            |\n",
    "| 19.1 | Bert  | 2019 | Without GPU | server.py | 0.490 | 0        | 0            | 0            |\n",
    "| 19.6 | Flair | 2014 | Without GPU | docker    | 0.682 | 0.635    | 0.802        | 0.652        |\n",
    "| 19.5 | Flair | 2019 | Without GPU | docker    | 0.685 | 0.610    | 0.803        | 0.627        |\n",
    "| 19.7 | Bert  | 2014 | Without GPU | docker+   | 0.536 | 0        | 0            | 0            |\n",
    "| 22.5 | Flair | 2019 | Without GPU | server.py | 2.873 | 0.251    | 0.803        | 0.261        |\n",
    "\n",
    "docker+ is a new docker image built from the modified REL\n",
    "\n",
    "The 19.X experiments have been run on processors which are four times as fast as those of the 22.X experiment "
   ]
  },
  {
   "cell_type": "code",
   "execution_count": null,
   "metadata": {},
   "outputs": [],
   "source": []
  }
 ],
 "metadata": {
  "kernelspec": {
   "display_name": "Python 3 (ipykernel)",
   "language": "python",
   "name": "python3"
  },
  "language_info": {
   "codemirror_mode": {
    "name": "ipython",
    "version": 3
   },
   "file_extension": ".py",
   "mimetype": "text/x-python",
   "name": "python",
   "nbconvert_exporter": "python",
   "pygments_lexer": "ipython3",
   "version": "3.9.13"
  }
 },
 "nbformat": 4,
 "nbformat_minor": 4
}
